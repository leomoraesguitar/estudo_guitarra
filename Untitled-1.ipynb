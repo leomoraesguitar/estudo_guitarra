{
 "cells": [
  {
   "cell_type": "code",
   "execution_count": 2,
   "metadata": {},
   "outputs": [
    {
     "name": "stdout",
     "output_type": "stream",
     "text": [
      "\"1\": i.1.value,\n",
      "\"2\": i.2.value,\n",
      "\"3\": i.3.value,\n",
      "\"4\": i.4.value,\n",
      "\"5\": i.5.value,\n",
      "\"6\": i.6.value,\n",
      "\"7\": i.7.value,\n",
      "\"8\": i.8.value,\n",
      "\"9\": i.9.value,\n",
      "\"10\": i.10.value,\n",
      "\"11\": i.11.value,\n",
      "\"12\": i.12.value,\n",
      "\"13\": i.13.value,\n",
      "\"14\": i.14.value,\n",
      "\"15\": i.15.value,\n",
      "\"16\": i.16.value,\n",
      "\"17\": i.17.value,\n",
      "\"18\": i.18.value,\n",
      "\"19\": i.19.value,\n",
      "\"20\": i.20.value,\n",
      "\"21\": i.21.value,\n",
      "\"22\": i.22.value,\n",
      "\"23\": i.23.value,\n",
      "\"24\": i.24.value,\n",
      "\"25\": i.25.value,\n",
      "\"26\": i.26.value,\n",
      "\"27\": i.27.value,\n",
      "\"28\": i.28.value,\n",
      "\"29\": i.29.value,\n",
      "\"30\": i.30.value,\n",
      "\"31\": i.31.value,\n"
     ]
    }
   ],
   "source": [
    "a = \"\"\"\n",
    "'Ano',\n",
    "'Mês',\n",
    "'item de estudo',\n",
    "'técnica',\n",
    "'Articulação',\n",
    "'tempo',\n",
    "'NOTAS TEMPO',\n",
    "'meta',\n",
    "'velocidade palhetada',\n",
    "'bpm semana',\n",
    "'evolução',\n",
    "'NOTAS S',\n",
    "'dias pata aumentar 1 bpm',\n",
    "'tempo para conseguir',\n",
    "'bpm máximas'\"\"\"  \n",
    "dic = {}\n",
    "for i in a.split(','):\n",
    "    v = i.replace('\\n','').replace(\"'\", '').replace(\" \", '_')\n",
    "    # print(f'self.{v} = MeuCampoTexto(nome = {v}, width = larguras.get(\"{v}\", 80), on_change = self.Savar)') \n",
    "    # print(f'\"{v}\": 80,') \n",
    "    # print(f\"dic[f'{{n}}'] = i.{v}\")\n",
    "    dic[f\"{v}\"] = f'i.{v}'\n",
    "    # print(f'self.{v},') \n",
    "    # print(f'{v} = 60,') \n",
    "    # print(f'{i.replace('\\n','').replace(\"'\", '').replace(\" \", '_')} = None,')\n",
    "dic\n",
    "for i in range(1,32):\n",
    "    print(f'\"{i}\": i.{i}.value,')"
   ]
  }
 ],
 "metadata": {
  "kernelspec": {
   "display_name": "Python 3",
   "language": "python",
   "name": "python3"
  },
  "language_info": {
   "codemirror_mode": {
    "name": "ipython",
    "version": 3
   },
   "file_extension": ".py",
   "mimetype": "text/x-python",
   "name": "python",
   "nbconvert_exporter": "python",
   "pygments_lexer": "ipython3",
   "version": "3.12.6"
  }
 },
 "nbformat": 4,
 "nbformat_minor": 2
}
